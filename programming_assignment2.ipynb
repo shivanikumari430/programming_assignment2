{
 "cells": [
  {
   "cell_type": "code",
   "execution_count": 1,
   "id": "ac0ca7fa",
   "metadata": {},
   "outputs": [],
   "source": [
    "#1.\tWrite a Python program to convert kilometers to miles?\n",
    "#2.\tWrite a Python program to convert Celsius to Fahrenheit?\n",
    "#3.\tWrite a Python program to display calendar?\n",
    "#4.\tWrite a Python program to solve quadratic equation?\n",
    "#5.\tWrite a Python program to swap two variables without temp variable?\n",
    "\n"
   ]
  },
  {
   "cell_type": "code",
   "execution_count": 2,
   "id": "6aceb12b",
   "metadata": {},
   "outputs": [
    {
     "name": "stdout",
     "output_type": "stream",
     "text": [
      "enter the number in kilometre to be changed to mile3\n",
      "the result in miles is 1.863\n"
     ]
    }
   ],
   "source": [
    "#1.\tWrite a Python program to convert kilometers to miles?\n",
    "def convert(km):\n",
    "    ml=0.621*km             #1km = 0.621 miles\n",
    "    return(ml)\n",
    "a=int(input(\"enter the number in kilometre to be changed to mile\"))\n",
    "print(\"the result in miles is\",convert(a))"
   ]
  },
  {
   "cell_type": "code",
   "execution_count": 4,
   "id": "7e41a77b",
   "metadata": {},
   "outputs": [
    {
     "name": "stdout",
     "output_type": "stream",
     "text": [
      "enter the number in celcius to be changed to fahrenheit2\n",
      "the result in fahrenheit is 35.6\n"
     ]
    }
   ],
   "source": [
    "#2.\tWrite a Python program to convert Celsius to Fahrenheit?\n",
    "def convertfar(cel):\n",
    "    far= ((cel)*(9/5))+32\n",
    "    return(far)\n",
    "a=int(input(\"enter the number in celcius to be changed to fahrenheit\"))\n",
    "print(\"the result in fahrenheit is\",convertfar(a))"
   ]
  },
  {
   "cell_type": "code",
   "execution_count": 10,
   "id": "12ec66e9",
   "metadata": {},
   "outputs": [
    {
     "name": "stdout",
     "output_type": "stream",
     "text": [
      "enter the year1999\n",
      "enter the month6\n",
      "     June 1999\n",
      "Mo Tu We Th Fr Sa Su\n",
      "    1  2  3  4  5  6\n",
      " 7  8  9 10 11 12 13\n",
      "14 15 16 17 18 19 20\n",
      "21 22 23 24 25 26 27\n",
      "28 29 30\n",
      "\n"
     ]
    }
   ],
   "source": [
    "#3.\tWrite a Python program to display calendar?\n",
    "import calendar\n",
    "yy= int(input(\"enter the year\"))\n",
    "mm= int(input(\"enter the month\"))\n",
    "print(calendar.month(yy,mm))"
   ]
  },
  {
   "cell_type": "code",
   "execution_count": 15,
   "id": "c05e8916",
   "metadata": {},
   "outputs": [
    {
     "name": "stdout",
     "output_type": "stream",
     "text": [
      "enter the coefficient of variable with degree 23\n",
      "enter the coefficient of variable with degree 1-5\n",
      "enter the coefficient value2\n",
      "The two roots are 1.0 0.6666666666666666\n"
     ]
    }
   ],
   "source": [
    "#4.\tWrite a Python program to solve quadratic equation?\n",
    "import math\n",
    "a= int(input(\"enter the coefficient of variable with degree 2\"))\n",
    "b= int(input(\"enter the coefficient of variable with degree 1\"))\n",
    "c=int(input(\"enter the coefficient value\"))\n",
    "root1= (-b+math.sqrt(b*b-4*a*c))/(2*a)\n",
    "root2= (-b- math.sqrt(b*b-4*a*c))/(2*a)\n",
    "print(\"The two roots are\",root1,root2)"
   ]
  },
  {
   "cell_type": "code",
   "execution_count": 21,
   "id": "9d5cdc79",
   "metadata": {},
   "outputs": [
    {
     "name": "stdout",
     "output_type": "stream",
     "text": [
      "enter a number a3\n",
      "enter a number b5\n",
      "numbers before swappping is (3, 5)\n",
      "numbers after swappping is (5, 3)\n"
     ]
    }
   ],
   "source": [
    "#5.\tWrite a Python program to swap two variables without temp variable?\n",
    "def swap(a,b):\n",
    "    a=a+b\n",
    "    b=a-b\n",
    "    a=a-b\n",
    "    return(a,b)\n",
    "a=int(input(\"enter a number a\"))\n",
    "b=int(input(\"enter a number b\"))\n",
    "print(\"numbers before swappping is\",(a,b))\n",
    "print(\"numbers after swappping is\",swap(a,b))"
   ]
  },
  {
   "cell_type": "code",
   "execution_count": null,
   "id": "1da173cd",
   "metadata": {},
   "outputs": [],
   "source": []
  },
  {
   "cell_type": "code",
   "execution_count": null,
   "id": "1cabd25e",
   "metadata": {},
   "outputs": [],
   "source": []
  }
 ],
 "metadata": {
  "kernelspec": {
   "display_name": "Python 3 (ipykernel)",
   "language": "python",
   "name": "python3"
  },
  "language_info": {
   "codemirror_mode": {
    "name": "ipython",
    "version": 3
   },
   "file_extension": ".py",
   "mimetype": "text/x-python",
   "name": "python",
   "nbconvert_exporter": "python",
   "pygments_lexer": "ipython3",
   "version": "3.9.7"
  }
 },
 "nbformat": 4,
 "nbformat_minor": 5
}
